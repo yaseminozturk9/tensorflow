from __future__ import absolute_import, division, print_function, unicode_literals

try:
  # Use the %tensorflow_version magic if in colab.
  %tensorflow_version 2.x
except Exception:
  pass

import tensorflow as tf

import numpy as np
import logging
logger = tf.get_logger()
logger.setLevel(logging.ERROR)

cm_q = np.array([10, 15, 20, 25, 30, 35,  40],  dtype=float)
inc_a = np.array([3.94, 5.91, 7.87, 9.84, 11.81, 13.78, 15.75],  dtype=float)

for i,c in enumerate(cm_q):
  print("{} degrees Cm = {} degrees Inc".format(c, inc_a[i]))

l0 = tf.keras.layers.Dense(units=1, input_shape=[1])

model = tf.keras.Sequential([l0])

model.compile(loss='mean_squared_error',
              optimizer=tf.keras.optimizers.Adam(0.1))

history = model.fit(cm_q, inc_a, verbose=False)
epochs = int(input(" Kaç kez tekrarlansın?:"))
print("Finished training the model")

import matplotlib.pyplot as plt
plt.xlabel('Epoch Number')
plt.ylabel("Loss Magnitude")
plt.plot(history.history['loss'])

deger = int(input("Cm değeri giriniz:"))
print(model.predict([deger]))
gercekDeger = deger*0.39370
print("Gerçek Değer:",gercekDeger)

print("These are the layer variables: {}".format(l0.get_weights()))
